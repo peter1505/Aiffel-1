{
 "cells": [
  {
   "cell_type": "code",
   "execution_count": 1,
   "id": "mighty-cyprus",
   "metadata": {},
   "outputs": [
    {
     "name": "stdout",
     "output_type": "stream",
     "text": [
      "WARNING:tensorflow:From <ipython-input-1-4a3f57d5652e>:2: is_gpu_available (from tensorflow.python.framework.test_util) is deprecated and will be removed in a future version.\n",
      "Instructions for updating:\n",
      "Use `tf.config.list_physical_devices('GPU')` instead.\n"
     ]
    },
    {
     "data": {
      "text/plain": [
       "True"
      ]
     },
     "execution_count": 1,
     "metadata": {},
     "output_type": "execute_result"
    }
   ],
   "source": [
    "import tensorflow as tf\n",
    "tf.test.is_gpu_available()"
   ]
  },
  {
   "cell_type": "markdown",
   "id": "massive-stevens",
   "metadata": {},
   "source": [
    "# 작사가 인공지능 만들기"
   ]
  },
  {
   "cell_type": "markdown",
   "id": "hundred-lucas",
   "metadata": {},
   "source": [
    "작사가 인공지능을 들어 가기전 가벼운 sentence로 시작해보겠습니다."
   ]
  },
  {
   "cell_type": "code",
   "execution_count": 2,
   "id": "moving-title",
   "metadata": {},
   "outputs": [],
   "source": [
    "from IPython.display import Image"
   ]
  },
  {
   "cell_type": "code",
   "execution_count": 3,
   "id": "impressed-scholarship",
   "metadata": {},
   "outputs": [
    {
     "name": "stdout",
     "output_type": "stream",
     "text": [
      "Source 문장: <start> 나는 밥을 먹었다 \n",
      "Target 문장:  나는 밥을 먹었다 <end>\n"
     ]
    }
   ],
   "source": [
    "sentence = \" 나는 밥을 먹었다 \"\n",
    "\n",
    "source_sentence = \"<start>\" + sentence\n",
    "target_sentence = sentence + \"<end>\"\n",
    "\n",
    "print(\"Source 문장:\", source_sentence)\n",
    "print(\"Target 문장:\", target_sentence)"
   ]
  },
  {
   "cell_type": "markdown",
   "id": "split-graphic",
   "metadata": {},
   "source": [
    "- 인공지능이 글을 이해하게 하는 방식은 수많은 글을 읽게 함으로써 나는 , 밥을, 그다음이 먹는다 라는 사실을 알게 하는 겁니다.\n",
    "\n",
    "- 이 방식을 가장 잘 처리하는 인공지능 중 하나가 순환신경망(RNN) 입니다."
   ]
  },
  {
   "cell_type": "code",
   "execution_count": 4,
   "id": "desirable-uncle",
   "metadata": {},
   "outputs": [
    {
     "name": "stdout",
     "output_type": "stream",
     "text": [
      "데이터 크기: 187088\n",
      "Examples:\n",
      " ['[Hook]', \"I've been down so long, it look like up to me\", 'They look up to me', \"I got fake people showin' fake love to me\", 'Straight up to my face, straight up to my face', \"I've been down so long, it look like up to me\", 'They look up to me', \"I got fake people showin' fake love to me\", 'Straight up to my face, straight up to my face [Verse 1]', \"Somethin' ain't right when we talkin'\"]\n"
     ]
    }
   ],
   "source": [
    "import os, re \n",
    "import numpy as np\n",
    "import tensorflow as tf\n",
    "import glob\n",
    "# 파일을 읽기모드로 열고\n",
    "# 라인 단위로 끊어서 list 형태로 읽어옵니다.\n",
    "raw_corpus = []\n",
    "txt_file_path = os .getenv('HOME') + '/aiffel/lyricist/data/lyrics/*'\n",
    "txt_list = glob.glob(txt_file_path)\n",
    "\n",
    "for txt_file in txt_list: \n",
    "    with open(txt_file, \"r\") as f:\n",
    "        raw = f.read().splitlines()\n",
    "        raw_corpus.extend(raw)\n",
    "\n",
    "print(\"데이터 크기:\", len(raw_corpus)) # 187,088\n",
    "print(\"Examples:\\n\", raw_corpus[:10]) # 데이터 확인"
   ]
  },
  {
   "cell_type": "markdown",
   "id": "confirmed-functionality",
   "metadata": {},
   "source": [
    "셰익스피어의 연극 대본입니다."
   ]
  },
  {
   "cell_type": "markdown",
   "id": "sexual-ballet",
   "metadata": {},
   "source": [
    "여기서 필요한 건 대사(문장)만을 원하므로 화 이름이나 공백뿐인 정보는 필요가 없습니다."
   ]
  },
  {
   "cell_type": "code",
   "execution_count": 5,
   "id": "chief-breast",
   "metadata": {},
   "outputs": [
    {
     "name": "stdout",
     "output_type": "stream",
     "text": [
      "[Hook]\n",
      "I've been down so long, it look like up to me\n",
      "They look up to me\n",
      "I got fake people showin' fake love to me\n",
      "Straight up to my face, straight up to my face\n",
      "I've been down so long, it look like up to me\n",
      "They look up to me\n",
      "I got fake people showin' fake love to me\n",
      "Straight up to my face, straight up to my face [Verse 1]\n",
      "Somethin' ain't right when we talkin'\n"
     ]
    }
   ],
   "source": [
    "for idx, sentence in enumerate(raw_corpus):\n",
    "    if len(sentence) == 0: continue   # 길이가 0인 문장은 건너뜁니다.\n",
    "    if sentence[-1] == \":\": continue  # 문장의 끝이 : 인 문장은 건너뜁니다.\n",
    "\n",
    "    if idx > 9: break   # 일단 문장 10개만 확인해 볼 겁니다.\n",
    "        \n",
    "    print(sentence)"
   ]
  },
  {
   "cell_type": "markdown",
   "id": "congressional-found",
   "metadata": {},
   "source": [
    "텍스트 분류 모델에서 많이 보신 것처럼 텍스트 생성 모델에도 단어 사전을 만들게 됩니다. 그렇다면 문장을 일정한 기준으로 쪼개야겠죠? 그 과정을 토큰화(Tokenize) 라고 합니다.\n",
    "\n",
    "1. Hi, my name is John. *(\"Hi,\" \"my\", ..., \"john.\" 으로 분리됨) - 문장부호\n",
    "\n",
    "2. First, open the first chapter. *(First와 first를 다른 단어로 인식) - 대소문자\n",
    "\n",
    "3. He is a ten-year-old boy. *(ten-year-old를 한 단어로 인식) - 특수문자\n",
    "\n",
    "\"1.\" 을 막기 위해 문장 부호 양쪽에 공백을 추가 할 것이고, \"2.\" 를 막기 위해 모든 문자들을 소문자로 변환 할 겁니다. \"3.\"을 막기 위해 특수문자들은 모두 제거 하도록 해보겠습니다."
   ]
  },
  {
   "cell_type": "code",
   "execution_count": 6,
   "id": "encouraging-place",
   "metadata": {},
   "outputs": [
    {
     "name": "stdout",
     "output_type": "stream",
     "text": [
      "<start> this is sample sentence . <end>\n"
     ]
    }
   ],
   "source": [
    "# 입력된 문장을\n",
    "#     1. 소문자로 바꾸고, 양쪽 공백을 지웁니다\n",
    "#     2. 특수문자 양쪽에 공백을 넣고\n",
    "#     3. 여러개의 공백은 하나의 공백으로 바꿉니다\n",
    "#     4. a-zA-Z?.!,¿가 아닌 모든 문자를 하나의 공백으로 바꿉니다\n",
    "#     5. 다시 양쪽 공백을 지웁니다\n",
    "#     6. 문장 시작에는 <start>, 끝에는 <end>를 추가합니다\n",
    "# 이 순서로 처리해주면 문제가 되는 상황을 방지할 수 있겠네요!\n",
    "def preprocess_sentence(sentence):\n",
    "    sentence = sentence.lower().strip() # 1\n",
    "    sentence = re.sub(r\"([?.!,¿])\", r\" \\1 \", sentence) # 2\n",
    "    sentence = re.sub(r'[\" \"]+', \" \", sentence) # 3\n",
    "    sentence = re.sub(r\"[^a-zA-Z?.!,¿]+\", \" \", sentence) # 4\n",
    "    sentence = sentence.strip() # 5\n",
    "    sentence = '<start> ' + sentence + ' <end>' # 6\n",
    "    return sentence\n",
    "\n",
    "# 이 문장이 어떻게 필터링되는지 확인해 보세요.\n",
    "print(preprocess_sentence(\"This @_is ;;;sample        sentence.\"))"
   ]
  },
  {
   "cell_type": "markdown",
   "id": "european-sponsorship",
   "metadata": {},
   "source": [
    "- 자연어처리 분야에서 모델의 입력이 되는 문장을 소스 문장(Source Sentence) , 정답 역할을 하게 될 모델의 출력 문장을 타겟 문장(Target Sentence) 라고 관례적으로 부릅니다. 각각 X_train, y_train 에 해당한다고 할 수 있겠습니다."
   ]
  },
  {
   "cell_type": "code",
   "execution_count": 7,
   "id": "fantastic-scottish",
   "metadata": {},
   "outputs": [],
   "source": [
    "# # 여기에 정제된 문장을 모을겁니다\n",
    "# corpus = []\n",
    "\n",
    "# for sentence in raw_corpus:\n",
    "#     # 우리가 원하지 않는 문장은 건너뜁니다\n",
    "#     if len(sentence) == 0: continue\n",
    "#     if sentence[-1] == \":\": continue\n",
    "    \n",
    "#     # 정제를 하고 담아주세요\n",
    "#     preprocessed_sentence = preprocess_sentence(sentence)\n",
    "#     corpus.append(preprocessed_sentence)\n",
    "        \n",
    "# # 정제된 결과를 10개만 확인해보죠\n",
    "# corpus[:10]\n",
    "\n",
    "corpus = [] \n",
    "for sentence in raw_corpus: # 우리가 원하지 않는 문장은 건너뜁니다 \n",
    "    if len(sentence) == 0: continue \n",
    "    if sentence[-1] == \"]\": continue \n",
    "    if sentence[-1] == \")\": continue # 정제를 하고 담아주세요 \n",
    "    preprocessed_sentence = preprocess_sentence(sentence) \n",
    "    if preprocessed_sentence.count(\" \") >= 15: continue \n",
    "    corpus.append(preprocessed_sentence) # 정제된 결과를 10개만 확인해보죠 corpus[:10]"
   ]
  },
  {
   "cell_type": "markdown",
   "id": "departmental-thursday",
   "metadata": {},
   "source": [
    "인공지능이 알아 들을 수 있는 숫자로 변환해서 인공지능에게 넘겨 줄 겁니다.\n",
    "\n",
    "텐서플로우는 자연어 처리를 위한 여러 가지 모듈을 제공하는데, 우리도 그 모듈을 십분 활용할 겁니다! 아래에서 활용하게 될 tf.keras.preprocessing.text.Tokenizer 패키지는 정제된 데이터를 토큰화하고, 단어 사전(vocabulary 또는 dictionary라고 칭함)을 만들어주며, 데이터를 숫자로 변환까지 한 방에 해줍니다. 이 과정을 벡터화(vectorize) 라 하며, 숫자로 변환된 데이터를 텐서(tensor) 라고 칭합니다. "
   ]
  },
  {
   "cell_type": "code",
   "execution_count": 8,
   "id": "floppy-thirty",
   "metadata": {},
   "outputs": [
    {
     "name": "stdout",
     "output_type": "stream",
     "text": [
      "[[   2    4   92 ...   10   12    3]\n",
      " [   2   37  134 ...    0    0    0]\n",
      " [   2    4   36 ...    0    0    0]\n",
      " ...\n",
      " [   2   87  694 ...    0    0    0]\n",
      " [   2  204    3 ...    0    0    0]\n",
      " [   2    9 1525 ...    0    0    0]] <keras_preprocessing.text.Tokenizer object at 0x7fa6eb9d2dd0>\n"
     ]
    }
   ],
   "source": [
    "# 토큰화 할 때 텐서플로우의 Tokenizer와 pad_sequences를 사용합니다\n",
    "# 더 잘 알기 위해 아래 문서들을 참고하면 좋습니다\n",
    "# https://www.tensorflow.org/api_docs/python/tf/keras/preprocessing/text/Tokenizer\n",
    "# https://www.tensorflow.org/api_docs/python/tf/keras/preprocessing/sequence/pad_sequences\n",
    "def tokenize(corpus):\n",
    "    # 7000단어를 기억할 수 있는 tokenizer를 만들겁니다\n",
    "    # 우리는 이미 문장을 정제했으니 filters가 필요없어요\n",
    "    # 7000단어에 포함되지 못한 단어는 '<unk>'로 바꿀거에요\n",
    "    tokenizer = tf.keras.preprocessing.text.Tokenizer(\n",
    "        num_words=12000, \n",
    "        filters=' ',\n",
    "        oov_token=\"<unk>\"\n",
    "    )\n",
    "    # corpus를 이용해 tokenizer 내부의 단어장을 완성합니다\n",
    "    tokenizer.fit_on_texts(corpus)\n",
    "    # 준비한 tokenizer를 이용해 corpus를 Tensor로 변환합니다\n",
    "    tensor = tokenizer.texts_to_sequences(corpus)   \n",
    "    # 입력 데이터의 시퀀스 길이를 일정하게 맞춰줍니다\n",
    "    # 만약 시퀀스가 짧다면 문장 뒤에 패딩을 붙여 길이를 맞춰줍니다.\n",
    "    # 문장 앞에 패딩을 붙여 길이를 맞추고 싶다면 padding='pre'를 사용합니다\n",
    "    tensor = tf.keras.preprocessing.sequence.pad_sequences(tensor, padding='post')  \n",
    "    \n",
    "    print(tensor,tokenizer)\n",
    "    return tensor, tokenizer\n",
    "\n",
    "tensor, tokenizer = tokenize(corpus)"
   ]
  },
  {
   "cell_type": "markdown",
   "id": "later-assignment",
   "metadata": {},
   "source": [
    "생성된 텐서 데이터를 3번째 행, 10번째 열까지만 출력해 봅시다"
   ]
  },
  {
   "cell_type": "code",
   "execution_count": 9,
   "id": "typical-contemporary",
   "metadata": {},
   "outputs": [],
   "source": [
    "# print(tensor[:3, :10])"
   ]
  },
  {
   "cell_type": "markdown",
   "id": "crazy-discretion",
   "metadata": {},
   "source": [
    "- 텐서 데이터는 모두 정수로 이루어져 있습니다. 이 숫자는 다름 아니라, tokenizer에 구축된 단어 사전의 인덱스입니다. 단어 사전이 어떻게 구축되었는지 아래와 같이 확인해 봅시다."
   ]
  },
  {
   "cell_type": "code",
   "execution_count": 10,
   "id": "outside-headset",
   "metadata": {},
   "outputs": [
    {
     "name": "stdout",
     "output_type": "stream",
     "text": [
      "1 : <unk>\n",
      "2 : <start>\n",
      "3 : <end>\n",
      "4 : i\n",
      "5 : ,\n",
      "6 : the\n",
      "7 : you\n",
      "8 : and\n",
      "9 : a\n",
      "10 : to\n"
     ]
    }
   ],
   "source": [
    "for idx in tokenizer.index_word:\n",
    "    print(idx, \":\", tokenizer.index_word[idx])\n",
    "\n",
    "    if idx >= 10: break"
   ]
  },
  {
   "cell_type": "code",
   "execution_count": 11,
   "id": "cardiovascular-adelaide",
   "metadata": {},
   "outputs": [
    {
     "name": "stdout",
     "output_type": "stream",
     "text": [
      "[  2   4  92 104  58  31 164   5  11 134  23  30  10  12]\n",
      "[  4  92 104  58  31 164   5  11 134  23  30  10  12   3]\n",
      "148425\n",
      "148425\n"
     ]
    }
   ],
   "source": [
    "# tensor에서 마지막 토큰을 잘라내서 소스 문장을 생성합니다\n",
    "# 마지막 토큰은 <end>가 아니라 <pad>일 가능성이 높습니다.\n",
    "src_input = tensor[:, :-1]  \n",
    "# tensor에서 <start>를 잘라내서 타겟 문장을 생성합니다.\n",
    "tgt_input = tensor[:, 1:]    \n",
    "\n",
    "print(src_input[0])\n",
    "print(tgt_input[0])\n",
    "print(len(src_input))\n",
    "print(len(tgt_input))"
   ]
  },
  {
   "cell_type": "code",
   "execution_count": 12,
   "id": "emotional-miniature",
   "metadata": {},
   "outputs": [
    {
     "data": {
      "text/plain": [
       "<BatchDataset shapes: ((256, 14), (256, 14)), types: (tf.int32, tf.int32)>"
      ]
     },
     "execution_count": 12,
     "metadata": {},
     "output_type": "execute_result"
    }
   ],
   "source": [
    "BUFFER_SIZE = len(src_input)\n",
    "BATCH_SIZE = 256\n",
    "steps_per_epoch = len(src_input) // BATCH_SIZE\n",
    "\n",
    " # tokenizer가 구축한 단어사전 내 7000개와, 여기 포함되지 않은 0:<pad>를 포함하여 7001개\n",
    "VOCAB_SIZE = tokenizer.num_words + 1 \n",
    "\n",
    "# 준비한 데이터 소스로부터 데이터셋을 만듭니다.\n",
    "# 데이터셋에 대해서는 아래 문서를 참고하세요.\n",
    "# 자세히 알아둘수록 도움이 많이 되는 중요한 문서입니다.\n",
    "# https://www.tensorflow.org/api_docs/python/tf/data/Dataset\n",
    "dataset = tf.data.Dataset.from_tensor_slices((src_input, tgt_input))\n",
    "dataset = dataset.shuffle(BUFFER_SIZE)\n",
    "dataset = dataset.batch(BATCH_SIZE, drop_remainder=True)\n",
    "dataset"
   ]
  },
  {
   "cell_type": "markdown",
   "id": "trained-killer",
   "metadata": {},
   "source": [
    "이번 스텝에서 데이터셋을 생성하기 위해 거쳐 온 과정을 잘 기억해 두시길 바랍니다.\n",
    "\n",
    "\n",
    "- 정규표현식을 이용한 corpus 생성\n",
    "- tf.keras.preprocessing.text.Tokenizer를 이용해 corpus를 텐서로 변환\n",
    "- tf.data.Dataset.from_tensor_slices()를 이용해 corpus 텐서를 tf.data.Dataset객체로 변환\n",
    "\n",
    "\n",
    "dataset을 얻음으로써 데이터 다듬기 과정은 끝났습니다. tf.data.Dataset에서 제공하는 shuffle(), batch() 등 다양한 데이터셋 관련 기능을 손쉽게 이용할 수 있게 되었군요.\n",
    "\n",
    "이 모든 일련의 과정을 텐서플로우에서의 데이터 전처리 라 칭합니다!"
   ]
  },
  {
   "cell_type": "code",
   "execution_count": 13,
   "id": "funded-archive",
   "metadata": {},
   "outputs": [],
   "source": [
    "class TextGenerator(tf.keras.Model):\n",
    "    def __init__(self, vocab_size, embedding_size, hidden_size):\n",
    "        super().__init__()\n",
    "        \n",
    "        self.embedding = tf.keras.layers.Embedding(vocab_size, embedding_size)\n",
    "        self.rnn_1 = tf.keras.layers.LSTM(hidden_size, return_sequences=True)\n",
    "        self.rnn_2 = tf.keras.layers.LSTM(hidden_size, return_sequences=True)\n",
    "        self.linear = tf.keras.layers.Dense(vocab_size)\n",
    "        \n",
    "    def call(self, x):\n",
    "        out = self.embedding(x)\n",
    "        out = self.rnn_1(out)\n",
    "        out = self.rnn_2(out)\n",
    "        out = self.linear(out)\n",
    "        \n",
    "        return out\n",
    "    \n",
    "embedding_size = 500\n",
    "hidden_size = 1024\n",
    "model = TextGenerator(tokenizer.num_words + 1, embedding_size , hidden_size)"
   ]
  },
  {
   "cell_type": "code",
   "execution_count": 14,
   "id": "legislative-whole",
   "metadata": {
    "scrolled": true
   },
   "outputs": [
    {
     "data": {
      "text/plain": [
       "<tf.Tensor: shape=(256, 14, 12001), dtype=float32, numpy=\n",
       "array([[[-1.28765096e-04, -1.84473305e-04,  5.69115546e-05, ...,\n",
       "         -3.94750605e-05, -1.78712828e-04, -4.96433699e-04],\n",
       "        [-1.16321439e-06, -3.78069992e-04, -1.09919965e-04, ...,\n",
       "         -1.81048053e-05, -4.00293386e-04, -1.02617254e-03],\n",
       "        [ 1.63814839e-04, -1.44164878e-04, -4.19155898e-04, ...,\n",
       "          1.17303345e-04, -6.27521251e-04, -1.08912226e-03],\n",
       "        ...,\n",
       "        [-7.49783823e-04,  5.41700749e-04, -2.34041899e-03, ...,\n",
       "         -1.26219972e-03,  1.55611255e-03,  3.65271862e-03],\n",
       "        [-7.67096528e-04,  5.91280230e-04, -2.83170724e-03, ...,\n",
       "         -1.26799720e-03,  1.81144697e-03,  4.04870277e-03],\n",
       "        [-7.91114580e-04,  6.48870540e-04, -3.30227264e-03, ...,\n",
       "         -1.25105202e-03,  2.03804090e-03,  4.39728005e-03]],\n",
       "\n",
       "       [[-1.28765096e-04, -1.84473305e-04,  5.69115546e-05, ...,\n",
       "         -3.94750605e-05, -1.78712828e-04, -4.96433699e-04],\n",
       "        [-5.94757264e-04, -3.25595989e-04,  3.03930108e-04, ...,\n",
       "         -9.35130374e-05, -4.11882909e-04, -8.68469884e-04],\n",
       "        [-8.74531339e-04, -6.56391960e-04,  7.31841894e-04, ...,\n",
       "         -2.53924227e-04, -3.88004293e-04, -8.54424085e-04],\n",
       "        ...,\n",
       "        [-1.51245156e-03,  9.99005279e-04,  2.67927680e-04, ...,\n",
       "         -8.70938413e-04,  5.94504876e-04,  4.11637739e-04],\n",
       "        [-1.41224603e-03,  1.06801779e-03, -1.55424452e-04, ...,\n",
       "         -1.06142112e-03,  7.71618565e-04,  1.18625432e-03],\n",
       "        [-1.29634677e-03,  1.09120761e-03, -6.38717320e-04, ...,\n",
       "         -1.20407832e-03,  9.88898450e-04,  1.89680175e-03]],\n",
       "\n",
       "       [[-1.28765096e-04, -1.84473305e-04,  5.69115546e-05, ...,\n",
       "         -3.94750605e-05, -1.78712828e-04, -4.96433699e-04],\n",
       "        [-4.78299422e-04, -1.89003287e-04,  2.82324298e-04, ...,\n",
       "         -1.67282575e-04, -2.54859537e-04, -8.99747014e-04],\n",
       "        [-7.72655359e-04, -3.54148098e-04,  5.56787301e-04, ...,\n",
       "         -3.65130720e-04, -7.36912130e-04, -1.11187680e-03],\n",
       "        ...,\n",
       "        [-4.74199507e-04,  2.35706157e-08, -1.25323597e-03, ...,\n",
       "         -8.54072277e-04,  3.93662660e-04,  2.66229804e-03],\n",
       "        [-4.50091844e-04,  6.23711094e-05, -1.82695221e-03, ...,\n",
       "         -9.69732238e-04,  7.88879639e-04,  3.21992673e-03],\n",
       "        [-4.44868987e-04,  1.32531481e-04, -2.38672062e-03, ...,\n",
       "         -1.04054378e-03,  1.14932063e-03,  3.71028273e-03]],\n",
       "\n",
       "       ...,\n",
       "\n",
       "       [[-1.28765096e-04, -1.84473305e-04,  5.69115546e-05, ...,\n",
       "         -3.94750605e-05, -1.78712828e-04, -4.96433699e-04],\n",
       "        [ 2.95001319e-05, -2.60893983e-04,  2.42627313e-04, ...,\n",
       "          1.15320363e-04, -2.62126006e-04, -3.87939304e-04],\n",
       "        [ 2.21836031e-04, -3.05642548e-04,  5.44615381e-04, ...,\n",
       "          3.73653311e-04, -1.28014450e-04, -5.75295300e-04],\n",
       "        ...,\n",
       "        [-1.92983265e-04,  2.75604369e-04,  1.48164714e-03, ...,\n",
       "         -4.96128341e-04, -7.26815022e-04, -2.00033799e-04],\n",
       "        [-5.93475706e-04,  3.87459237e-04,  1.51188730e-03, ...,\n",
       "         -4.27051971e-04, -3.93699971e-04,  4.25461796e-04],\n",
       "        [-8.86220660e-04,  4.07014304e-04,  1.29606482e-03, ...,\n",
       "         -4.92531806e-04, -1.02331171e-04,  1.13547011e-03]],\n",
       "\n",
       "       [[-1.28765096e-04, -1.84473305e-04,  5.69115546e-05, ...,\n",
       "         -3.94750605e-05, -1.78712828e-04, -4.96433699e-04],\n",
       "        [-1.06100772e-04, -3.67093337e-04,  2.34126011e-04, ...,\n",
       "         -2.95383070e-04, -1.35623559e-04, -6.23998349e-04],\n",
       "        [-7.40194882e-05, -5.53855789e-04,  3.27866001e-04, ...,\n",
       "         -3.86280532e-04,  8.01433998e-06, -8.39184737e-04],\n",
       "        ...,\n",
       "        [-9.24298773e-04, -1.62251046e-04, -2.16629426e-03, ...,\n",
       "         -1.17497263e-03,  1.58365699e-03,  3.14252963e-03],\n",
       "        [-9.16285324e-04, -6.38985875e-05, -2.68061180e-03, ...,\n",
       "         -1.20692910e-03,  1.85745640e-03,  3.58765968e-03],\n",
       "        [-9.14202363e-04,  4.09063614e-05, -3.17317061e-03, ...,\n",
       "         -1.20617624e-03,  2.10028165e-03,  3.98107339e-03]],\n",
       "\n",
       "       [[-1.28765096e-04, -1.84473305e-04,  5.69115546e-05, ...,\n",
       "         -3.94750605e-05, -1.78712828e-04, -4.96433699e-04],\n",
       "        [ 8.40865760e-05, -3.83629173e-04,  4.12003690e-04, ...,\n",
       "         -2.08003650e-04, -4.36769158e-04, -5.26458723e-04],\n",
       "        [ 9.21546307e-05, -3.34515964e-04,  5.87507850e-04, ...,\n",
       "         -5.02849405e-04, -6.23657426e-04, -2.33192332e-04],\n",
       "        ...,\n",
       "        [-6.39869948e-04, -4.63671196e-04,  8.40665482e-04, ...,\n",
       "         -2.01662374e-03, -1.01763767e-03, -2.00334092e-04],\n",
       "        [-9.96137969e-04, -1.44371064e-04,  5.82006935e-04, ...,\n",
       "         -1.83342816e-03, -1.08655728e-03,  2.96032289e-04],\n",
       "        [-1.19559921e-03,  1.01135163e-04,  1.73452630e-04, ...,\n",
       "         -1.79129583e-03, -1.04983104e-03,  9.19306185e-04]]],\n",
       "      dtype=float32)>"
      ]
     },
     "execution_count": 14,
     "metadata": {},
     "output_type": "execute_result"
    }
   ],
   "source": [
    "# 데이터셋에서 데이터 한 배치만 불러오는 방법입니다.\n",
    "# 지금은 동작 원리에 너무 빠져들지 마세요~\n",
    "for src_sample, tgt_sample in dataset.take(1): break\n",
    "\n",
    "# 한 배치만 불러온 데이터를 모델에 넣어봅니다\n",
    "model(src_sample)"
   ]
  },
  {
   "cell_type": "code",
   "execution_count": 15,
   "id": "express-portal",
   "metadata": {},
   "outputs": [
    {
     "name": "stdout",
     "output_type": "stream",
     "text": [
      "Model: \"text_generator\"\n",
      "_________________________________________________________________\n",
      "Layer (type)                 Output Shape              Param #   \n",
      "=================================================================\n",
      "embedding (Embedding)        multiple                  6000500   \n",
      "_________________________________________________________________\n",
      "lstm (LSTM)                  multiple                  6246400   \n",
      "_________________________________________________________________\n",
      "lstm_1 (LSTM)                multiple                  8392704   \n",
      "_________________________________________________________________\n",
      "dense (Dense)                multiple                  12301025  \n",
      "=================================================================\n",
      "Total params: 32,940,629\n",
      "Trainable params: 32,940,629\n",
      "Non-trainable params: 0\n",
      "_________________________________________________________________\n"
     ]
    }
   ],
   "source": [
    "model.summary()"
   ]
  },
  {
   "cell_type": "markdown",
   "id": "exciting-hotel",
   "metadata": {},
   "source": [
    " optimizer와 loss등은 차차 배웁니다\n",
    " 혹시 미리 알고 싶다면 아래 문서를 참고하세요\n",
    " https://www.tensorflow.org/api_docs/python/tf/keras/optimizers\n",
    " https://www.tensorflow.org/api_docs/python/tf/keras/losses\n",
    " 양이 상당히 많은 편이니 지금 보는 것은 추천하지 않습니다"
   ]
  },
  {
   "cell_type": "code",
   "execution_count": 16,
   "id": "generous-disposition",
   "metadata": {},
   "outputs": [],
   "source": [
    "from sklearn.model_selection import train_test_split"
   ]
  },
  {
   "cell_type": "code",
   "execution_count": 17,
   "id": "talented-broadcast",
   "metadata": {},
   "outputs": [
    {
     "name": "stdout",
     "output_type": "stream",
     "text": [
      "Source Train: (118740, 14)\n",
      "Target Train: (103897, 14)\n"
     ]
    }
   ],
   "source": [
    "sou_train, sou_val, tar_train, tar_val = train_test_split(src_input, tgt_input, test_size=0.2)\n",
    "sou_val_train1, tar_val_val1, sou_val_train2, tar_val_val2 = train_test_split(sou_train, tar_train, test_size = 0.125 , random_state = 2)\n",
    "print(\"Source Train:\", sou_train.shape)\n",
    "print(\"Target Train:\", sou_val_train1.shape)"
   ]
  },
  {
   "cell_type": "code",
   "execution_count": 18,
   "id": "classical-carry",
   "metadata": {},
   "outputs": [
    {
     "name": "stdout",
     "output_type": "stream",
     "text": [
      "Epoch 1/10\n",
      "928/928 [==============================] - 190s 201ms/step - loss: 3.6915 - accuracy: 0.4751 - val_loss: 2.9355 - val_accuracy: 0.5255\n",
      "Epoch 2/10\n",
      "928/928 [==============================] - 187s 201ms/step - loss: 2.8982 - accuracy: 0.5294 - val_loss: 2.7044 - val_accuracy: 0.5398\n",
      "Epoch 3/10\n",
      "928/928 [==============================] - 186s 200ms/step - loss: 2.6915 - accuracy: 0.5422 - val_loss: 2.5314 - val_accuracy: 0.5531\n",
      "Epoch 4/10\n",
      "928/928 [==============================] - 188s 202ms/step - loss: 2.5197 - accuracy: 0.5550 - val_loss: 2.3708 - val_accuracy: 0.5664\n",
      "Epoch 5/10\n",
      "928/928 [==============================] - 186s 200ms/step - loss: 2.3674 - accuracy: 0.5685 - val_loss: 2.2213 - val_accuracy: 0.5834\n",
      "Epoch 6/10\n",
      "928/928 [==============================] - 228s 246ms/step - loss: 2.2207 - accuracy: 0.5856 - val_loss: 2.0827 - val_accuracy: 0.6015\n",
      "Epoch 7/10\n",
      "928/928 [==============================] - 184s 198ms/step - loss: 2.0877 - accuracy: 0.6024 - val_loss: 1.9560 - val_accuracy: 0.6200\n",
      "Epoch 8/10\n",
      "928/928 [==============================] - 181s 195ms/step - loss: 1.9616 - accuracy: 0.6204 - val_loss: 1.8353 - val_accuracy: 0.6410\n",
      "Epoch 9/10\n",
      "928/928 [==============================] - 181s 195ms/step - loss: 1.8510 - accuracy: 0.6371 - val_loss: 1.7239 - val_accuracy: 0.6601\n",
      "Epoch 10/10\n",
      "928/928 [==============================] - 180s 193ms/step - loss: 1.7380 - accuracy: 0.6572 - val_loss: 1.6227 - val_accuracy: 0.6770\n"
     ]
    }
   ],
   "source": [
    "optimizer = tf.keras.optimizers.Adam()\n",
    "loss = tf.keras.losses.SparseCategoricalCrossentropy(\n",
    "    from_logits=True,\n",
    "    reduction='none'\n",
    ")\n",
    "\n",
    "\n",
    "model.compile(loss=loss, optimizer=optimizer, metrics=['accuracy'])\n",
    "data1 = model.fit(sou_train,tar_train,validation_data = (tar_val_val1, tar_val_val2),batch_size=128, epochs=10)"
   ]
  },
  {
   "cell_type": "markdown",
   "id": "based-executive",
   "metadata": {},
   "source": [
    "glob 모듈을 사용하면 파일을 읽어오는 작업을 하기가 아주 용이해요. glob 를 활용하여 모든 txt 파일을 읽어온 후, raw_corpus 리스트에 문장 단위로 저장하도록 할게요!"
   ]
  },
  {
   "cell_type": "code",
   "execution_count": 20,
   "id": "foreign-paintball",
   "metadata": {},
   "outputs": [
    {
     "data": {
      "image/png": "[encoded data removed]",
      "text/plain": [
       "<Figure size 576x576 with 2 Axes>"
      ]
     },
     "metadata": {
      "needs_background": "light"
     },
     "output_type": "display_data"
    },
    {
     "name": "stdout",
     "output_type": "stream",
     "text": [
      "✅\n"
     ]
    }
   ],
   "source": [
    "\n",
    "import matplotlib.pyplot as plt\n",
    "\n",
    "acc = data1.history['accuracy']\n",
    "val_acc = data1.history['val_accuracy']\n",
    "\n",
    "loss=data1.history['loss']\n",
    "val_loss=data1.history['val_loss']\n",
    "\n",
    "epochs_range = range(len(acc))\n",
    "\n",
    "plt.figure(figsize=(8, 8))\n",
    "plt.subplot(1, 2, 1)\n",
    "plt.plot(epochs_range, acc, label='Training Accuracy')\n",
    "plt.plot(epochs_range, val_acc, label='Validation Accuracy')\n",
    "plt.legend(loc='lower right')\n",
    "plt.title('Training and Validation Accuracy')\n",
    "\n",
    "plt.subplot(1, 2, 2)\n",
    "plt.plot(epochs_range, loss, label='Training Loss')\n",
    "plt.plot(epochs_range, val_loss, label='Validation Loss')\n",
    "plt.legend(loc='upper right')\n",
    "plt.title('Training and Validation Loss')\n",
    "plt.show()\n",
    "print(\"✅\")"
   ]
  },
  {
   "cell_type": "code",
   "execution_count": 23,
   "id": "english-loading",
   "metadata": {},
   "outputs": [],
   "source": [
    "def generate_text(model, tokenizer, init_sentence=\"<start>\", max_len=20):\n",
    "    # 테스트를 위해서 입력받은 init_sentence도 일단 텐서로 변환합니다.\n",
    "    test_input = tokenizer.texts_to_sequences([init_sentence])\n",
    "    test_tensor = tf.convert_to_tensor(test_input, dtype=tf.int64)\n",
    "    end_token = tokenizer.word_index[\"<end>\"]\n",
    "\n",
    "    # 텍스트를 실제로 생성할때는 루프를 돌면서 단어 하나씩 생성해야 합니다. \n",
    "    while True:\n",
    "        predict = model(test_tensor)  # 입력받은 문장의 텐서를 입력합니다. \n",
    "        predict_word = tf.argmax(tf.nn.softmax(predict, axis=-1), axis=-1)[:, -1]   # 우리 모델이 예측한 마지막 단어가 바로 새롭게 생성한 단어가 됩니다. \n",
    "\n",
    "        # 우리 모델이 새롭게 예측한 단어를 입력 문장의 뒤에 붙여 줍니다. \n",
    "        test_tensor = tf.concat([test_tensor, tf.expand_dims(predict_word, axis=0)], axis=-1)\n",
    "\n",
    "        # 우리 모델이 <end>를 예측했거나, max_len에 도달하지 않았다면  while 루프를 또 돌면서 다음 단어를 예측해야 합니다.\n",
    "        if predict_word.numpy()[0] == end_token: break\n",
    "        if test_tensor.shape[1] >= max_len: break\n",
    "\n",
    "    generated = \"\"\n",
    "    # 생성된 tensor 안에 있는 word index를 tokenizer.index_word 사전을 통해 실제 단어로 하나씩 변환합니다. \n",
    "    for word_index in test_tensor[0].numpy():\n",
    "        generated += tokenizer.index_word[word_index] + \" \"\n",
    "\n",
    "    return generated   # 이것이 최종적으로 모델이 생성한 자연어 문장입니다."
   ]
  },
  {
   "cell_type": "code",
   "execution_count": 32,
   "id": "designed-secondary",
   "metadata": {},
   "outputs": [
    {
     "data": {
      "text/plain": [
       "'<start> sexy motherfucker <end> '"
      ]
     },
     "execution_count": 32,
     "metadata": {},
     "output_type": "execute_result"
    }
   ],
   "source": [
    "\n",
    "generate_text(model, tokenizer, init_sentence=\"<start> sexy\", max_len=20)"
   ]
  },
  {
   "cell_type": "code",
   "execution_count": 50,
   "id": "corresponding-mechanics",
   "metadata": {},
   "outputs": [],
   "source": [
    "variable = [\"i\", \"love\",\"sexy\"]"
   ]
  },
  {
   "cell_type": "code",
   "execution_count": 51,
   "id": "boxed-conservative",
   "metadata": {},
   "outputs": [
    {
     "name": "stdout",
     "output_type": "stream",
     "text": [
      "i you know that i m a liar <end> \n",
      "love and i ll be waiting <end> \n",
      "sexy i m the only one <end> \n"
     ]
    }
   ],
   "source": [
    "for i in variable:\n",
    "    print(generate_text(model, tokenizer, init_sentence=i, max_len=50))"
   ]
  },
  {
   "cell_type": "code",
   "execution_count": null,
   "id": "authentic-smith",
   "metadata": {},
   "outputs": [],
   "source": []
  }
 ],
 "metadata": {
  "kernelspec": {
   "display_name": "Python 3",
   "language": "python",
   "name": "python3"
  },
  "language_info": {
   "codemirror_mode": {
    "name": "ipython",
    "version": 3
   },
   "file_extension": ".py",
   "mimetype": "text/x-python",
   "name": "python",
   "nbconvert_exporter": "python",
   "pygments_lexer": "ipython3",
   "version": "3.7.9"
  }
 },
 "nbformat": 4,
 "nbformat_minor": 5
}
