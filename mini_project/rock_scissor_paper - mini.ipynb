{
 "cells": [
  {
   "cell_type": "code",
   "execution_count": 1,
   "id": "sharing-chain",
   "metadata": {},
   "outputs": [
    {
     "name": "stdout",
     "output_type": "stream",
     "text": [
      "PIL 라이브러리 import 완료!\n"
     ]
    }
   ],
   "source": [
    "from PIL import Image\n",
    "import os, glob\n",
    "\n",
    "print(\"PIL 라이브러리 import 완료!\")"
   ]
  },
  {
   "cell_type": "markdown",
   "id": "compressed-illness",
   "metadata": {},
   "source": [
    "#### 가위 이미지 가져오는 함수"
   ]
  },
  {
   "cell_type": "code",
   "execution_count": 4,
   "id": "coordinated-tower",
   "metadata": {},
   "outputs": [
    {
     "name": "stdout",
     "output_type": "stream",
     "text": [
      "/aiffel/aiffel/rock_scissor_paper/train/scissor\n",
      "642 images to be resized\n",
      "642  images resized\n",
      "/aiffel/aiffel/rock_scissor_paper/train/paper\n",
      "468 images to be resized\n",
      "468  images resized\n",
      "/aiffel/aiffel/rock_scissor_paper/train/rock\n",
      "540 images to be resized\n",
      "540  images resized\n",
      "/aiffel/aiffel/rock_scissor_paper/test/scissor\n",
      "100 images to be resized\n",
      "100  images resized\n",
      "/aiffel/aiffel/rock_scissor_paper/test/paper\n",
      "94 images to be resized\n",
      "94  images resized\n",
      "/aiffel/aiffel/rock_scissor_paper/test/rock\n",
      "100 images to be resized\n",
      "100  images resized\n"
     ]
    }
   ],
   "source": [
    "PATH = os.getenv(\"HOME\") + \"/aiffel/rock_scissor_paper/\"\n",
    "\n",
    "def resize_images(img_path):\n",
    "    images=glob.glob(img_path + \"/*.jpg\")\n",
    "\n",
    "    print(img_path)\n",
    "    print(len(images), \"images to be resized\")\n",
    "\n",
    "    target_size = (28, 28)\n",
    "    for img in images:\n",
    "        old_img = Image.open(img)\n",
    "        new_img = old_img.resize(target_size, Image.ANTIALIAS)\n",
    "        new_img.save(img, \"JPEG\")\n",
    "    print(len(images), \" images resized\")\n",
    "\n",
    "resize_images(PATH + \"train/scissor\")\n",
    "resize_images(PATH + \"train/paper\")\n",
    "resize_images(PATH + \"train/rock\")\n",
    "resize_images(PATH + \"test/scissor\")\n",
    "resize_images(PATH + \"test/paper\")\n",
    "resize_images(PATH + \"test/rock\")"
   ]
  },
  {
   "cell_type": "code",
   "execution_count": 5,
   "id": "imperial-credits",
   "metadata": {},
   "outputs": [
    {
     "name": "stdout",
     "output_type": "stream",
     "text": [
      "642  images to be resized.\n",
      "642  images resized.\n",
      "100  images to be resized.\n",
      "100  images resized.\n",
      "가위 이미지 resize 완료!\n"
     ]
    }
   ],
   "source": [
    "import os\n",
    "PATH = os.getenv(\"HOME\") + \"/aiffel/aiffel/explorations/datasets/rock_scissor_paper/\"\n",
    "def resize_images(img_path):\n",
    "\timages=glob.glob(img_path + \"/*.jpg\")  \n",
    "    \n",
    "\tprint(len(images), \" images to be resized.\")\n",
    "\n",
    "    # 파일마다 모두 28x28 사이즈로 바꾸어 저장합니다.\n",
    "\ttarget_size=(28,28)\n",
    "\tfor img in images:\n",
    "\t\told_img=Image.open(img)\n",
    "\t\tnew_img=old_img.resize(target_size,Image.ANTIALIAS)\n",
    "\t\tnew_img.save(img, \"JPEG\")\n",
    "    \n",
    "\tprint(len(images), \" images resized.\")\n",
    "\t\n",
    "# 가위 이미지가 저장된 디렉토리 아래의 모든 jpg 파일을 읽어들여서\n",
    "image_dir_path = os.getenv(\"HOME\") + \"/aiffel/rock_scissor_paper/train/scissor\"\n",
    "image_dir_path2 = os.getenv(\"HOME\") + \"/aiffel/rock_scissor_paper/test/scissor\"\n",
    "resize_images(image_dir_path)\n",
    "resize_images(image_dir_path2)\n",
    "\n",
    "print(\"가위 이미지 resize 완료!\")"
   ]
  },
  {
   "cell_type": "markdown",
   "id": "breathing-siemens",
   "metadata": {},
   "source": [
    "#### 바위 이미지 가져오는 함수"
   ]
  },
  {
   "cell_type": "code",
   "execution_count": 6,
   "id": "advisory-pitch",
   "metadata": {},
   "outputs": [
    {
     "name": "stdout",
     "output_type": "stream",
     "text": [
      "540  images to be resized.\n",
      "540  images resized.\n",
      "100  images to be resized.\n",
      "100  images resized.\n",
      "바위 이미지 resize 완료!\n"
     ]
    }
   ],
   "source": [
    "import os\n",
    "\n",
    "def resize_images(img_path):\n",
    "\timages=glob.glob(img_path + \"/*.jpg\")  \n",
    "    \n",
    "\tprint(len(images), \" images to be resized.\")\n",
    "\n",
    "    # 파일마다 모두 28x28 사이즈로 바꾸어 저장합니다.\n",
    "\ttarget_size=(28,28)\n",
    "\tfor img in images:\n",
    "\t\told_img=Image.open(img)\n",
    "\t\tnew_img=old_img.resize(target_size,Image.ANTIALIAS)\n",
    "\t\tnew_img.save(img, \"JPEG\")\n",
    "    \n",
    "\tprint(len(images), \" images resized.\")\n",
    "\t\n",
    "# 가위 이미지가 저장된 디렉토리 아래의 모든 jpg 파일을 읽어들여서\n",
    "image_dir_path = os.getenv(\"HOME\") + \"/aiffel/rock_scissor_paper/train/rock\"\n",
    "image_dir_path2 = os.getenv(\"HOME\") + \"/aiffel/rock_scissor_paper/test/rock\"\n",
    "resize_images(image_dir_path)\n",
    "resize_images(image_dir_path2)\n",
    "\n",
    "print(\"바위 이미지 resize 완료!\")"
   ]
  },
  {
   "cell_type": "markdown",
   "id": "protecting-mouth",
   "metadata": {},
   "source": [
    "#### 보자기 이미지 가져오는 함수"
   ]
  },
  {
   "cell_type": "code",
   "execution_count": 7,
   "id": "behavioral-friend",
   "metadata": {},
   "outputs": [
    {
     "name": "stdout",
     "output_type": "stream",
     "text": [
      "468  images to be resized.\n",
      "468  images resized.\n",
      "94  images to be resized.\n",
      "94  images resized.\n",
      "보 이미지 resize 완료!\n"
     ]
    }
   ],
   "source": [
    "import os\n",
    "\n",
    "def resize_images(img_path):\n",
    "\timages=glob.glob(img_path + \"/*.jpg\")  \n",
    "    \n",
    "\tprint(len(images), \" images to be resized.\")\n",
    "\n",
    "    # 파일마다 모두 28x28 사이즈로 바꾸어 저장합니다.\n",
    "\ttarget_size=(28,28)\n",
    "\tfor img in images:\n",
    "\t\told_img=Image.open(img)\n",
    "\t\tnew_img=old_img.resize(target_size,Image.ANTIALIAS)\n",
    "\t\tnew_img.save(img, \"JPEG\")\n",
    "    \n",
    "\tprint(len(images), \" images resized.\")\n",
    "\t\n",
    "# 가위 이미지가 저장된 디렉토리 아래의 모든 jpg 파일을 읽어들여서\n",
    "image_dir_path = os.getenv(\"HOME\") + \"/aiffel/rock_scissor_paper/train/paper\"\n",
    "image_dir_path2 = os.getenv(\"HOME\") + \"/aiffel/rock_scissor_paper/test/paper\"\n",
    "resize_images(image_dir_path)\n",
    "resize_images(image_dir_path2)\n",
    "\n",
    "print(\"보 이미지 resize 완료!\")"
   ]
  },
  {
   "cell_type": "code",
   "execution_count": 10,
   "id": "musical-nation",
   "metadata": {},
   "outputs": [
    {
     "name": "stdout",
     "output_type": "stream",
     "text": [
      "/aiffel/aiffel/rock_scissor_paper/train/scissor\n",
      "642 images to be resized\n",
      "642  images resized\n",
      "/aiffel/aiffel/rock_scissor_paper/train/paper\n",
      "468 images to be resized\n",
      "468  images resized\n",
      "/aiffel/aiffel/rock_scissor_paper/train/rock\n",
      "540 images to be resized\n",
      "540  images resized\n",
      "/aiffel/aiffel/rock_scissor_paper/test/scissor\n",
      "100 images to be resized\n",
      "100  images resized\n",
      "/aiffel/aiffel/rock_scissor_paper/test/paper\n",
      "94 images to be resized\n",
      "94  images resized\n",
      "/aiffel/aiffel/rock_scissor_paper/test/rock\n",
      "100 images to be resized\n",
      "100  images resized\n"
     ]
    }
   ],
   "source": [
    "PATH = os.getenv(\"HOME\") + \"/aiffel/rock_scissor_paper/\"\n",
    "\n",
    "def resize_images(img_path):\n",
    "    images=glob.glob(img_path + \"/*.jpg\")\n",
    "\n",
    "    print(img_path)\n",
    "    print(len(images), \"images to be resized\")\n",
    "\n",
    "    target_size = (28, 28)\n",
    "    for img in images:\n",
    "        old_img = Image.open(img)\n",
    "        new_img = old_img.resize(target_size, Image.ANTIALIAS)\n",
    "        new_img.save(img, \"JPEG\")\n",
    "    print(len(images), \" images resized\")\n",
    "\n",
    "resize_images(PATH + \"train/scissor\")\n",
    "resize_images(PATH + \"train/paper\")\n",
    "resize_images(PATH + \"train/rock\")\n",
    "resize_images(PATH + \"test/scissor\")\n",
    "resize_images(PATH + \"test/paper\")\n",
    "resize_images(PATH + \"test/rock\")"
   ]
  },
  {
   "cell_type": "code",
   "execution_count": 11,
   "id": "supreme-worry",
   "metadata": {},
   "outputs": [
    {
     "name": "stdout",
     "output_type": "stream",
     "text": [
      "642\n",
      "1182\n",
      "1650\n",
      "학습데이터(x_train)의 이미지 개수는 1650 입니다.\n",
      "100\n",
      "200\n",
      "294\n",
      "학습데이터(x_train)의 이미지 개수는 294 입니다.\n",
      "x_train shape: (1668, 28, 28, 3)\n",
      "y_train shape: (1668,)\n",
      "x_test shape: (1668, 28, 28, 3)\n",
      "y_test shape: (1668,)\n"
     ]
    }
   ],
   "source": [
    "import numpy as np\n",
    "\n",
    "def load_data(img_path, number_of_data=1668):  # 가위바위보 이미지 개수 총합에 주의하세요.\n",
    "    # 가위 : 0, 바위 : 1, 보 : 2\n",
    "    img_size=28\n",
    "    color=3\n",
    "    #이미지 데이터와 라벨(가위 : 0, 바위 : 1, 보 : 2) 데이터를 담을 행렬(matrix) 영역을 생성합니다.\n",
    "    imgs=np.zeros(number_of_data*img_size*img_size*color,dtype=np.int32).reshape(number_of_data,img_size,img_size,color)\n",
    "    labels=np.zeros(number_of_data,dtype=np.int32)\n",
    "\n",
    "    idx=0\n",
    "    for file in glob.iglob(img_path+'/scissor/*.jpg'):\n",
    "        img = np.array(Image.open(file),dtype=np.int32)\n",
    "        imgs[idx,:,:,:]=img    # 데이터 영역에 이미지 행렬을 복사\n",
    "        labels[idx]=0   # 가위 : 0\n",
    "        idx=idx+1\n",
    "    print(idx)\n",
    "    for file in glob.iglob(img_path+'/rock/*.jpg'):\n",
    "        img = np.array(Image.open(file),dtype=np.int32)\n",
    "        imgs[idx,:,:,:]=img    # 데이터 영역에 이미지 행렬을 복사\n",
    "        labels[idx]=1   # 바위 : 1\n",
    "        idx=idx+1  \n",
    "    print(idx)\n",
    "    for file in glob.iglob(img_path+'/paper/*.jpg'):\n",
    "        img = np.array(Image.open(file),dtype=np.int32)\n",
    "        imgs[idx,:,:,:]=img    # 데이터 영역에 이미지 행렬을 복사\n",
    "        labels[idx]=2   # 보 : 2\n",
    "        idx=idx+1\n",
    "    print(idx)   \n",
    "    print(\"학습데이터(x_train)의 이미지 개수는\", idx,\"입니다.\")\n",
    "    return imgs, labels\n",
    "\n",
    "image_dir_path = os.getenv(\"HOME\") + \"/aiffel/rock_scissor_paper\"\n",
    "(x_train, y_train)=load_data(PATH + \"train\")\n",
    "x_train_norm = x_train/255.0   # 입력은 0~1 사이의 값으로 정규화\n",
    "(x_test, y_test)=load_data(PATH + \"test\")\n",
    "x_test_norm = x_test/255.0   # 입력은 0~1 사이의 값으로 정규화\n",
    "\n",
    "\n",
    "print(\"x_train shape: {}\".format(x_train.shape))\n",
    "print(\"y_train shape: {}\".format(y_train.shape))\n",
    "print(\"x_test shape: {}\".format(x_test.shape))\n",
    "print(\"y_test shape: {}\".format(y_test.shape))"
   ]
  },
  {
   "cell_type": "markdown",
   "id": "hairy-screening",
   "metadata": {},
   "source": [
    "- 필요한 모듈을 불러와 줍니다."
   ]
  },
  {
   "cell_type": "code",
   "execution_count": 12,
   "id": "adjusted-console",
   "metadata": {},
   "outputs": [],
   "source": [
    "import tensorflow as tf\n",
    "from tensorflow import keras\n",
    "import numpy as np"
   ]
  },
  {
   "cell_type": "code",
   "execution_count": 14,
   "id": "creative-summit",
   "metadata": {},
   "outputs": [
    {
     "name": "stdout",
     "output_type": "stream",
     "text": [
      "Epoch 1/10\n",
      "53/53 [==============================] - 8s 75ms/step - loss: 1.0841 - accuracy: 0.4213\n",
      "Epoch 2/10\n",
      "53/53 [==============================] - 0s 4ms/step - loss: 0.9252 - accuracy: 0.5863\n",
      "Epoch 3/10\n",
      "53/53 [==============================] - 0s 4ms/step - loss: 0.5263 - accuracy: 0.7942\n",
      "Epoch 4/10\n",
      "53/53 [==============================] - 0s 4ms/step - loss: 0.3234 - accuracy: 0.8892\n",
      "Epoch 5/10\n",
      "53/53 [==============================] - 0s 4ms/step - loss: 0.2545 - accuracy: 0.9128\n",
      "Epoch 6/10\n",
      "53/53 [==============================] - 0s 4ms/step - loss: 0.1442 - accuracy: 0.9408\n",
      "Epoch 7/10\n",
      "53/53 [==============================] - 0s 4ms/step - loss: 0.1087 - accuracy: 0.9653\n",
      "Epoch 8/10\n",
      "53/53 [==============================] - 0s 4ms/step - loss: 0.0943 - accuracy: 0.9703\n",
      "Epoch 9/10\n",
      "53/53 [==============================] - 0s 4ms/step - loss: 0.0549 - accuracy: 0.9858\n",
      "Epoch 10/10\n",
      "53/53 [==============================] - 0s 4ms/step - loss: 0.0446 - accuracy: 0.9837\n"
     ]
    },
    {
     "data": {
      "text/plain": [
       "<tensorflow.python.keras.callbacks.History at 0x7f7de818e210>"
      ]
     },
     "execution_count": 14,
     "metadata": {},
     "output_type": "execute_result"
    }
   ],
   "source": [
    "\n",
    "n_channel_1=32\n",
    "n_channel_2=64\n",
    "n_channel_3=128\n",
    "n_dense_1=256\n",
    "n_dense_2=64\n",
    "n_train_epoch=10\n",
    "\n",
    "model=keras.models.Sequential()\n",
    "model.add(keras.layers.Conv2D(n_channel_1, (3,3), activation='relu', input_shape=(28,28,3)))\n",
    "model.add(keras.layers.MaxPool2D(2,2))\n",
    "model.add(keras.layers.Conv2D(n_channel_2, (3,3), activation='relu'))\n",
    "model.add(keras.layers.MaxPooling2D((2,2)))\n",
    "model.add(keras.layers.Conv2D(n_channel_3, (3,3), activation='relu'))\n",
    "model.add(keras.layers.MaxPooling2D((2,2)))\n",
    "model.add(keras.layers.Flatten())\n",
    "model.add(keras.layers.Dense(n_dense_2, activation='relu'))\n",
    "model.add(keras.layers.Dropout(0.3))\n",
    "model.add(keras.layers.Dense(3, activation='softmax'))\n",
    "                                  \n",
    "model.compile(optimizer='adam',\n",
    "             loss='sparse_categorical_crossentropy',\n",
    "             metrics=['accuracy'])\n",
    "\n",
    "model.fit(x_train_norm, y_train, epochs=n_train_epoch)"
   ]
  },
  {
   "cell_type": "code",
   "execution_count": 30,
   "id": "statistical-publication",
   "metadata": {},
   "outputs": [],
   "source": [
    "from tensorflow.keras.callbacks import ModelCheckpoint, EarlyStopping"
   ]
  },
  {
   "cell_type": "code",
   "execution_count": 32,
   "id": "guided-party",
   "metadata": {},
   "outputs": [
    {
     "name": "stdout",
     "output_type": "stream",
     "text": [
      "Model: \"sequential_6\"\n",
      "_________________________________________________________________\n",
      "Layer (type)                 Output Shape              Param #   \n",
      "=================================================================\n",
      "conv2d_13 (Conv2D)           (None, 26, 26, 16)        448       \n",
      "_________________________________________________________________\n",
      "max_pooling2d_13 (MaxPooling (None, 13, 13, 16)        0         \n",
      "_________________________________________________________________\n",
      "conv2d_14 (Conv2D)           (None, 11, 11, 32)        4640      \n",
      "_________________________________________________________________\n",
      "max_pooling2d_14 (MaxPooling (None, 5, 5, 32)          0         \n",
      "_________________________________________________________________\n",
      "flatten_6 (Flatten)          (None, 800)               0         \n",
      "_________________________________________________________________\n",
      "dense_12 (Dense)             (None, 32)                25632     \n",
      "_________________________________________________________________\n",
      "dense_13 (Dense)             (None, 3)                 99        \n",
      "=================================================================\n",
      "Total params: 30,819\n",
      "Trainable params: 30,819\n",
      "Non-trainable params: 0\n",
      "_________________________________________________________________\n",
      "Model: \"sequential_6\"\n",
      "_________________________________________________________________\n",
      "Layer (type)                 Output Shape              Param #   \n",
      "=================================================================\n",
      "conv2d_13 (Conv2D)           (None, 26, 26, 16)        448       \n",
      "_________________________________________________________________\n",
      "max_pooling2d_13 (MaxPooling (None, 13, 13, 16)        0         \n",
      "_________________________________________________________________\n",
      "conv2d_14 (Conv2D)           (None, 11, 11, 32)        4640      \n",
      "_________________________________________________________________\n",
      "max_pooling2d_14 (MaxPooling (None, 5, 5, 32)          0         \n",
      "_________________________________________________________________\n",
      "flatten_6 (Flatten)          (None, 800)               0         \n",
      "_________________________________________________________________\n",
      "dense_12 (Dense)             (None, 32)                25632     \n",
      "_________________________________________________________________\n",
      "dense_13 (Dense)             (None, 3)                 99        \n",
      "=================================================================\n",
      "Total params: 30,819\n",
      "Trainable params: 30,819\n",
      "Non-trainable params: 0\n",
      "_________________________________________________________________\n",
      "Epoch 1/50\n",
      "112/112 [==============================] - 8s 43ms/step - loss: 6.3278 - accuracy: 0.6642 - val_loss: 11.1724 - val_accuracy: 0.1053\n",
      "\n",
      "Epoch 00001: val_loss improved from inf to 11.17241, saving model to /model/01-11.1724.hdf5\n",
      "Epoch 2/50\n",
      "112/112 [==============================] - 0s 4ms/step - loss: 0.1538 - accuracy: 0.9445 - val_loss: 13.9722 - val_accuracy: 0.1180\n",
      "\n",
      "Epoch 00002: val_loss did not improve from 11.17241\n",
      "Epoch 3/50\n",
      "112/112 [==============================] - 0s 4ms/step - loss: 0.0331 - accuracy: 0.9908 - val_loss: 15.4635 - val_accuracy: 0.1180\n",
      "\n",
      "Epoch 00003: val_loss did not improve from 11.17241\n",
      "Epoch 4/50\n",
      "112/112 [==============================] - 0s 4ms/step - loss: 0.0114 - accuracy: 0.9982 - val_loss: 15.8332 - val_accuracy: 0.1180\n",
      "\n",
      "Epoch 00004: val_loss did not improve from 11.17241\n",
      "Epoch 5/50\n",
      "112/112 [==============================] - 0s 4ms/step - loss: 0.0048 - accuracy: 0.9998 - val_loss: 16.1326 - val_accuracy: 0.1180\n",
      "\n",
      "Epoch 00005: val_loss did not improve from 11.17241\n",
      "Epoch 6/50\n",
      "112/112 [==============================] - 0s 4ms/step - loss: 0.0038 - accuracy: 1.0000 - val_loss: 17.3428 - val_accuracy: 0.1180\n",
      "\n",
      "Epoch 00006: val_loss did not improve from 11.17241\n",
      "Epoch 7/50\n",
      "112/112 [==============================] - 0s 4ms/step - loss: 0.0015 - accuracy: 1.0000 - val_loss: 17.4571 - val_accuracy: 0.1180\n",
      "\n",
      "Epoch 00007: val_loss did not improve from 11.17241\n",
      "Epoch 8/50\n",
      "112/112 [==============================] - 0s 4ms/step - loss: 0.0011 - accuracy: 1.0000 - val_loss: 18.1526 - val_accuracy: 0.1180\n",
      "\n",
      "Epoch 00008: val_loss did not improve from 11.17241\n",
      "Epoch 9/50\n",
      "112/112 [==============================] - 0s 4ms/step - loss: 7.8453e-04 - accuracy: 1.0000 - val_loss: 18.5619 - val_accuracy: 0.1180\n",
      "\n",
      "Epoch 00009: val_loss did not improve from 11.17241\n",
      "Epoch 10/50\n",
      "112/112 [==============================] - 0s 4ms/step - loss: 5.0155e-04 - accuracy: 1.0000 - val_loss: 18.9453 - val_accuracy: 0.1180\n",
      "\n",
      "Epoch 00010: val_loss did not improve from 11.17241\n",
      "Epoch 11/50\n",
      "112/112 [==============================] - 0s 4ms/step - loss: 6.0609e-04 - accuracy: 1.0000 - val_loss: 19.4505 - val_accuracy: 0.1180\n",
      "\n",
      "Epoch 00011: val_loss did not improve from 11.17241\n",
      "Epoch 1/10\n",
      "53/53 [==============================] - 0s 3ms/step - loss: 1.0248 - accuracy: 0.5911\n",
      "Epoch 2/10\n",
      "53/53 [==============================] - 0s 3ms/step - loss: 0.8262 - accuracy: 0.6859\n",
      "Epoch 3/10\n",
      "53/53 [==============================] - 0s 3ms/step - loss: 0.6219 - accuracy: 0.7818\n",
      "Epoch 4/10\n",
      "53/53 [==============================] - 0s 3ms/step - loss: 0.4720 - accuracy: 0.8591\n",
      "Epoch 5/10\n",
      "53/53 [==============================] - 0s 3ms/step - loss: 0.3699 - accuracy: 0.8795\n",
      "Epoch 6/10\n",
      "53/53 [==============================] - 0s 3ms/step - loss: 0.3003 - accuracy: 0.9023\n",
      "Epoch 7/10\n",
      "53/53 [==============================] - 0s 3ms/step - loss: 0.2283 - accuracy: 0.9406\n",
      "Epoch 8/10\n",
      "53/53 [==============================] - 0s 3ms/step - loss: 0.1979 - accuracy: 0.9478\n",
      "Epoch 9/10\n",
      "53/53 [==============================] - 0s 3ms/step - loss: 0.1492 - accuracy: 0.9682\n",
      "Epoch 10/10\n",
      "53/53 [==============================] - 0s 3ms/step - loss: 0.1252 - accuracy: 0.9736\n"
     ]
    },
    {
     "data": {
      "text/plain": [
       "<tensorflow.python.keras.callbacks.History at 0x7f7de8211c10>"
      ]
     },
     "execution_count": 32,
     "metadata": {},
     "output_type": "execute_result"
    }
   ],
   "source": [
    "n_channel_1=16\n",
    "n_channel_2=32\n",
    "n_dense=32\n",
    "n_train_epoch=10 # 에포크, 실행되는 횟수\n",
    "\n",
    "model=keras.models.Sequential()\n",
    "model.add(keras.layers.Conv2D(n_channel_1, (3,3), activation='relu', input_shape=(28,28,3)))\n",
    "model.add(keras.layers.MaxPool2D(2,2))\n",
    "model.add(keras.layers.Conv2D(n_channel_2, (3,3), activation='relu'))\n",
    "model.add(keras.layers.MaxPooling2D((2,2)))\n",
    "model.add(keras.layers.Flatten())\n",
    "model.add(keras.layers.Dense(n_dense, activation='relu'))\n",
    "model.add(keras.layers.Dense(3, activation='softmax'))\n",
    "\n",
    "\n",
    "model.summary()\n",
    "model.compile(optimizer='adam',\n",
    "             loss='sparse_categorical_crossentropy',\n",
    "             metrics=['accuracy'])\n",
    "\n",
    "# 모델 훈련\n",
    "\n",
    "\n",
    "\n",
    "model.summary()\n",
    "\n",
    "MODEL_DIR = \"./model/\"\n",
    "if not os.path.exists(MODEL_DIR):\n",
    "    os.mkdir(MODEL_DIR)\n",
    "\n",
    "modelpath = \"/model/{epoch:02d}-{val_loss:.4f}.hdf5\"\n",
    "early_stopping_callback = EarlyStopping(monitor=\"val_loss\", patience=10)\n",
    "checkpointer = ModelCheckpoint(filepath=modelpath, monitor=\"val_loss\",verbose=1,\n",
    "                              save_best_only=True)\n",
    "\n",
    "#모델의 실행\n",
    "history = model.fit(x_train, y_train,validation_split=0.33, epochs=50, batch_size=10,\n",
    "                   callbacks=[early_stopping_callback,checkpointer])\n",
    "\n",
    "model.fit(x_train_norm, y_train, epochs=n_train_epoch) \n"
   ]
  },
  {
   "cell_type": "code",
   "execution_count": 34,
   "id": "artistic-chrome",
   "metadata": {},
   "outputs": [],
   "source": [
    "import matplotlib.pyplot as plt"
   ]
  },
  {
   "cell_type": "code",
   "execution_count": 35,
   "id": "acting-gasoline",
   "metadata": {},
   "outputs": [
    {
     "data": {
      "image/png": "[encoded data removed]",
      "text/plain": [
       "<Figure size 432x288 with 1 Axes>"
      ]
     },
     "metadata": {
      "needs_background": "light"
     },
     "output_type": "display_data"
    }
   ],
   "source": [
    "history = model.fit(x_train, y_train, validation_data=(x_test,y_test), epochs=30,batch_size=200,\n",
    "                    verbose=0,)\n",
    "y_vloss = history.history[\"val_loss\"]\n",
    "\n",
    "#학습셋의 오차\n",
    "y_loss = history.history[\"loss\"]\n",
    "\n",
    "#그래프\n",
    "x_len = np.arange(len(y_loss))\n",
    "plt.plot(x_len, y_vloss, marker=\".\", c= \"red\", label=\"Testset_loss\")\n",
    "plt.plot(x_len, y_loss, marker=\".\", c= \"blue\", label=\"Trainset_loss\")\n",
    "\n",
    "#그래프에 그리드를 주고 레이블표시\n",
    "plt.legend(loc=\"upper right\")\n",
    "plt.grid()\n",
    "plt.xlabel(\"epoch\")\n",
    "plt.ylabel(\"loss\")\n",
    "plt.show()"
   ]
  },
  {
   "cell_type": "code",
   "execution_count": 36,
   "id": "million-graphic",
   "metadata": {},
   "outputs": [
    {
     "name": "stdout",
     "output_type": "stream",
     "text": [
      "53/53 - 0s - loss: 0.2590 - accuracy: 0.8963\n",
      "test_loss: 0.2590065896511078 \n",
      "test_accuracy: 0.896282970905304\n"
     ]
    }
   ],
   "source": [
    "test_loss, test_accuracy = model.evaluate(x_test_norm ,y_test, verbose=2)\n",
    "print(\"test_loss: {} \".format(test_loss))\n",
    "print(\"test_accuracy: {}\".format(test_accuracy))"
   ]
  },
  {
   "cell_type": "code",
   "execution_count": 37,
   "id": "complicated-bearing",
   "metadata": {},
   "outputs": [
    {
     "name": "stdout",
     "output_type": "stream",
     "text": [
      "model.predict() 결과 :  [0.08669586 0.88286674 0.03043735]\n",
      "model이 추론한 가장 가능성이 높은 결과 :  1\n",
      "실제 데이터의 라벨 :  1\n"
     ]
    }
   ],
   "source": [
    "\n",
    "predicted_result = model.predict(x_test_norm)  # model이 추론한 확률값. \n",
    "predicted_labels = np.argmax(predicted_result, axis=1)\n",
    "\n",
    "idx=140  #1번째 x_test를 살펴보자. \n",
    "print('model.predict() 결과 : ', predicted_result[idx])\n",
    "print('model이 추론한 가장 가능성이 높은 결과 : ', predicted_labels[idx])\n",
    "print('실제 데이터의 라벨 : ', y_test[idx])"
   ]
  },
  {
   "cell_type": "code",
   "execution_count": 39,
   "id": "built-daisy",
   "metadata": {},
   "outputs": [
    {
     "data": {
      "image/png": "[encoded data removed]",
      "text/plain": [
       "<Figure size 432x288 with 1 Axes>"
      ]
     },
     "metadata": {
      "needs_background": "light"
     },
     "output_type": "display_data"
    }
   ],
   "source": [
    "\n",
    "plt.imshow(x_test[35],cmap=plt.cm.binary)\n",
    "plt.show()"
   ]
  },
  {
   "cell_type": "code",
   "execution_count": 41,
   "id": "cubic-foster",
   "metadata": {},
   "outputs": [
    {
     "name": "stdout",
     "output_type": "stream",
     "text": [
      "예측확률분포: [0.19852072 0.67354006 0.12793928]\n",
      "라벨: 2, 예측결과: 1\n"
     ]
    },
    {
     "data": {
      "image/png": "[encoded data removed]",
      "text/plain": [
       "<Figure size 432x288 with 1 Axes>"
      ]
     },
     "metadata": {
      "needs_background": "light"
     },
     "output_type": "display_data"
    },
    {
     "name": "stdout",
     "output_type": "stream",
     "text": [
      "예측확률분포: [0.18637098 0.71877915 0.09484984]\n",
      "라벨: 2, 예측결과: 1\n"
     ]
    },
    {
     "data": {
      "image/png": "[encoded data removed]",
      "text/plain": [
       "<Figure size 432x288 with 1 Axes>"
      ]
     },
     "metadata": {
      "needs_background": "light"
     },
     "output_type": "display_data"
    },
    {
     "name": "stdout",
     "output_type": "stream",
     "text": [
      "예측확률분포: [0.10283144 0.8228736  0.07429501]\n",
      "라벨: 2, 예측결과: 1\n"
     ]
    },
    {
     "data": {
      "image/png": "[encoded data removed]",
      "text/plain": [
       "<Figure size 432x288 with 1 Axes>"
      ]
     },
     "metadata": {
      "needs_background": "light"
     },
     "output_type": "display_data"
    },
    {
     "name": "stdout",
     "output_type": "stream",
     "text": [
      "예측확률분포: [0.15646876 0.74766815 0.09586301]\n",
      "라벨: 2, 예측결과: 1\n"
     ]
    },
    {
     "data": {
      "image/png": "[encoded data removed]",
      "text/plain": [
       "<Figure size 432x288 with 1 Axes>"
      ]
     },
     "metadata": {
      "needs_background": "light"
     },
     "output_type": "display_data"
    },
    {
     "name": "stdout",
     "output_type": "stream",
     "text": [
      "예측확률분포: [0.19639593 0.7601191  0.04348502]\n",
      "라벨: 0, 예측결과: 1\n"
     ]
    },
    {
     "data": {
      "image/png": "[encoded data removed]",
      "text/plain": [
       "<Figure size 432x288 with 1 Axes>"
      ]
     },
     "metadata": {
      "needs_background": "light"
     },
     "output_type": "display_data"
    }
   ],
   "source": [
    "import random\n",
    "wrong_predict_list=[]\n",
    "for i, _ in enumerate(predicted_labels):\n",
    "    # i번째 test_labels과 y_test이 다른 경우만 모아 봅시다. \n",
    "    if predicted_labels[i] != y_test[i]:\n",
    "        wrong_predict_list.append(i)\n",
    "\n",
    "# wrong_predict_list 에서 랜덤하게 5개만 뽑아봅시다.\n",
    "samples = random.choices(population=wrong_predict_list, k=5)\n",
    "\n",
    "for n in samples:\n",
    "    print(\"예측확률분포: \" + str(predicted_result[n]))\n",
    "    print(\"라벨: \" + str(y_test[n]) + \", 예측결과: \" + str(predicted_labels[n]))\n",
    "    plt.imshow(x_test[n], cmap=plt.cm.binary)\n",
    "    plt.show()"
   ]
  },
  {
   "cell_type": "code",
   "execution_count": null,
   "id": "ecological-champion",
   "metadata": {},
   "outputs": [],
   "source": []
  }
 ],
 "metadata": {
  "kernelspec": {
   "display_name": "Python 3",
   "language": "python",
   "name": "python3"
  },
  "language_info": {
   "codemirror_mode": {
    "name": "ipython",
    "version": 3
   },
   "file_extension": ".py",
   "mimetype": "text/x-python",
   "name": "python",
   "nbconvert_exporter": "python",
   "pygments_lexer": "ipython3",
   "version": "3.7.9"
  }
 },
 "nbformat": 4,
 "nbformat_minor": 5
}
